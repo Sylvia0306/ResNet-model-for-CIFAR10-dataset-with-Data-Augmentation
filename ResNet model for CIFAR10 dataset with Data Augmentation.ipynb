{
  "cells": [
    {
      "cell_type": "code",
      "execution_count": 1,
      "metadata": {
        "id": "k2pF1Ptnm9BT"
      },
      "outputs": [],
      "source": [
        "import torch\n",
        "import torch.nn as nn\n",
        "import torch.optim as optim\n",
        "import torchvision\n",
        "import torchvision.transforms as transforms\n",
        "from torch.utils.data import DataLoader, Subset\n",
        "from torchvision.models import resnet18\n",
        "from sklearn.model_selection import train_test_split\n",
        "import numpy as np"
      ]
    },
    {
      "cell_type": "code",
      "execution_count": 2,
      "metadata": {
        "id": "W4jV01S3m9BU"
      },
      "outputs": [],
      "source": [
        "device = torch.device('cuda' if torch.cuda.is_available() else 'cpu')"
      ]
    },
    {
      "cell_type": "code",
      "execution_count": 3,
      "metadata": {
        "colab": {
          "base_uri": "https://localhost:8080/"
        },
        "id": "dDRwZe0hm9BU",
        "outputId": "c103adf4-6ac9-4d9f-fde2-79c78c9d0236"
      },
      "outputs": [
        {
          "output_type": "stream",
          "name": "stdout",
          "text": [
            "Downloading https://www.cs.toronto.edu/~kriz/cifar-10-python.tar.gz to ./data/cifar-10-python.tar.gz\n"
          ]
        },
        {
          "output_type": "stream",
          "name": "stderr",
          "text": [
            "100%|██████████| 170498071/170498071 [00:03<00:00, 56246330.64it/s]\n"
          ]
        },
        {
          "output_type": "stream",
          "name": "stdout",
          "text": [
            "Extracting ./data/cifar-10-python.tar.gz to ./data\n",
            "Files already downloaded and verified\n"
          ]
        }
      ],
      "source": [
        "# dataset\n",
        "\n",
        "transform = transforms.Compose([\n",
        "    transforms.ToTensor(),\n",
        "    transforms.Normalize((0.5, 0.5, 0.5), (0.5, 0.5, 0.5))\n",
        "])\n",
        "\n",
        "# Download CIFAR10\n",
        "trainset_full = torchvision.datasets.CIFAR10(root='./data', train=True,\n",
        "                                             download=True, transform=transform)\n",
        "testset = torchvision.datasets.CIFAR10(root='./data', train=False,\n",
        "                                        download=True, transform=transform)\n",
        "\n",
        "# Sample the first 1000 examples from each class\n",
        "class_indices = {i: np.where(np.array(trainset_full.targets) == i)[0][:1000] for i in range(10)}\n",
        "sampled_indices = np.hstack(list(class_indices.values()))\n",
        "\n",
        "# shuffle\n",
        "np.random.shuffle(sampled_indices)\n",
        "trainset = Subset(trainset_full, sampled_indices)\n",
        "\n",
        "trainloader = DataLoader(trainset, batch_size=64, shuffle=True, num_workers=2)\n",
        "testloader = DataLoader(testset, batch_size=64, shuffle=False, num_workers=2)"
      ]
    },
    {
      "cell_type": "code",
      "execution_count": 4,
      "metadata": {
        "colab": {
          "base_uri": "https://localhost:8080/"
        },
        "id": "moWeWJLzm9BU",
        "outputId": "2997b604-df8f-458a-920d-4f546727bb0e"
      },
      "outputs": [
        {
          "output_type": "stream",
          "name": "stderr",
          "text": [
            "/usr/local/lib/python3.10/dist-packages/torchvision/models/_utils.py:208: UserWarning: The parameter 'pretrained' is deprecated since 0.13 and may be removed in the future, please use 'weights' instead.\n",
            "  warnings.warn(\n",
            "/usr/local/lib/python3.10/dist-packages/torchvision/models/_utils.py:223: UserWarning: Arguments other than a weight enum or `None` for 'weights' are deprecated since 0.13 and may be removed in the future. The current behavior is equivalent to passing `weights=None`.\n",
            "  warnings.warn(msg)\n"
          ]
        }
      ],
      "source": [
        "# ResNet18 model\n",
        "net = resnet18(pretrained=False)\n",
        "net.fc = nn.Linear(net.fc.in_features, 10)  # Adjusting the last layer for 10 classes\n",
        "net = net.to(device)\n",
        "\n",
        "# loss\n",
        "criterion = nn.CrossEntropyLoss()\n",
        "# Adam optimizer\n",
        "optimizer = optim.Adam(net.parameters(), lr=0.001)"
      ]
    },
    {
      "cell_type": "code",
      "execution_count": 5,
      "metadata": {
        "id": "MMHB-Merm9BV"
      },
      "outputs": [],
      "source": [
        "# accuracy\n",
        "def calculate_accuracy(loader, model):\n",
        "    model.eval()\n",
        "    correct = 0\n",
        "    total = 0\n",
        "    with torch.no_grad():\n",
        "        for data in loader:\n",
        "            images, labels = data[0].to(device), data[1].to(device)\n",
        "            outputs = model(images)\n",
        "            _, predicted = torch.max(outputs.data, 1)\n",
        "            total += labels.size(0)\n",
        "            correct += (predicted == labels).sum().item()\n",
        "    return 100 * correct / total"
      ]
    },
    {
      "cell_type": "code",
      "execution_count": 6,
      "metadata": {
        "id": "iKBw5k3Gm9BV"
      },
      "outputs": [],
      "source": [
        "# cross entropy loss\n",
        "def cross_entropy(pred, soft_targets):\n",
        "    if not isinstance(soft_targets, torch.Tensor):\n",
        "        soft_targets = torch.tensor(soft_targets).to(pred.device)\n",
        "    log_softmax = torch.log_softmax(pred, dim=1)\n",
        "    return torch.mean(torch.sum(-soft_targets * log_softmax, dim=1))\n",
        "\n",
        "# one hot encoding\n",
        "def one_hot(labels, num_classes):\n",
        "    if labels.ndim == 1:\n",
        "        y_one_hot = np.zeros((labels.shape[0], num_classes), dtype=np.float32)\n",
        "        y_one_hot[np.arange(labels.shape[0]), labels.astype(int)] = 1\n",
        "    elif labels.ndim == 2:\n",
        "        y_one_hot = labels\n",
        "    return y_one_hot\n",
        "\n",
        "# Mixup augmentation\n",
        "def mixup_data(x, y, alpha=0.4, num_classes=10):\n",
        "    batch_size = x.shape[0]\n",
        "    lam = np.random.beta(alpha, alpha, size=batch_size).astype(np.float32)\n",
        "    indices = np.random.permutation(batch_size)\n",
        "\n",
        "    mixed_x = lam.reshape(-1, 1, 1, 1) * x + (1 - lam).reshape(-1, 1, 1, 1) * x[indices]\n",
        "\n",
        "    y_one_hot = one_hot(y, num_classes)\n",
        "    y_b_one_hot = one_hot(y[indices], num_classes)\n",
        "\n",
        "    mixed_y = lam.reshape(-1, 1) * y_one_hot + (1 - lam).reshape(-1, 1) * y_b_one_hot\n",
        "    return mixed_x, mixed_y, lam"
      ]
    },
    {
      "cell_type": "code",
      "execution_count": 7,
      "metadata": {
        "id": "30mCTEnNm9BV"
      },
      "outputs": [],
      "source": [
        "# cutout augmentation\n",
        "def cutout(image, k=16, p=0.5):\n",
        "    if np.random.rand() > p:\n",
        "        return image\n",
        "    else:\n",
        "        H, W = image.shape[1], image.shape[2]\n",
        "        padded_image = np.pad(image, ((0, 0), (k//2, k//2), (k//2, k//2)), mode='constant', constant_values=0)\n",
        "        center_h = np.random.randint(low=k//2, high=H+k//2)\n",
        "        center_w = np.random.randint(low=k//2, high=W+k//2)\n",
        "\n",
        "        cutout_image = padded_image.copy()\n",
        "        cutout_image[:,\n",
        "                     center_h-k//2:center_h+k//2,\n",
        "                     center_w-k//2:center_w+k//2] = 0\n",
        "        # Removing padding\n",
        "        cutout_image = cutout_image[:, k//2:-k//2, k//2:-k//2]\n",
        "        return cutout_image"
      ]
    },
    {
      "cell_type": "code",
      "source": [
        "# standard augmentation\n",
        "def standard(image, k=4):\n",
        "    k1, k2 = np.random.randint(-k, k+1, size=2)\n",
        "    image = np.pad(image, [(0, 0), (k, k), (k, k)], mode='constant')\n",
        "    shifted_image = image[:, k+k1:image.shape[1]-(k-k1), k+k2:image.shape[2]-(k-k2)]\n",
        "\n",
        "    if np.random.rand() > 0.5:\n",
        "        shifted_image = shifted_image[:, :, ::-1]\n",
        "\n",
        "    return shifted_image"
      ],
      "metadata": {
        "id": "hGkuM1bM0e_6"
      },
      "execution_count": null,
      "outputs": []
    },
    {
      "cell_type": "code",
      "execution_count": 8,
      "metadata": {
        "id": "UUhjpoUym9BV"
      },
      "outputs": [],
      "source": [
        "# convert numpy array to tensor\n",
        "def to_tensor(numpy_array):\n",
        "    return torch.tensor(numpy_array).float().to(device)"
      ]
    },
    {
      "cell_type": "code",
      "execution_count": 9,
      "metadata": {
        "colab": {
          "base_uri": "https://localhost:8080/"
        },
        "id": "MBRWe0IEm9BV",
        "outputId": "0cb0c3c9-ab2d-457e-934b-869ebab7c691"
      },
      "outputs": [
        {
          "output_type": "stream",
          "name": "stdout",
          "text": [
            "Epoch 1, Loss: 1.990364268327215, Train Accuracy: 42.61, Test Accuracy: 40.58\n",
            "[42.61]\n",
            "[40.58]\n",
            "[1.990364268327215]\n",
            "Epoch 2, Loss: 1.7800578729362244, Train Accuracy: 50.47, Test Accuracy: 46.67\n",
            "[42.61, 50.47]\n",
            "[40.58, 46.67]\n",
            "[1.990364268327215, 1.7800578729362244]\n",
            "Epoch 3, Loss: 1.669692246017942, Train Accuracy: 55.12, Test Accuracy: 49.42\n",
            "[42.61, 50.47, 55.12]\n",
            "[40.58, 46.67, 49.42]\n",
            "[1.990364268327215, 1.7800578729362244, 1.669692246017942]\n",
            "Epoch 4, Loss: 1.5828225491153207, Train Accuracy: 59.67, Test Accuracy: 53.14\n",
            "[42.61, 50.47, 55.12, 59.67]\n",
            "[40.58, 46.67, 49.42, 53.14]\n",
            "[1.990364268327215, 1.7800578729362244, 1.669692246017942, 1.5828225491153207]\n",
            "Epoch 5, Loss: 1.500610571758003, Train Accuracy: 60.32, Test Accuracy: 52.41\n",
            "[42.61, 50.47, 55.12, 59.67, 60.32]\n",
            "[40.58, 46.67, 49.42, 53.14, 52.41]\n",
            "[1.990364268327215, 1.7800578729362244, 1.669692246017942, 1.5828225491153207, 1.500610571758003]\n",
            "Epoch 6, Loss: 1.4285054389078906, Train Accuracy: 66.65, Test Accuracy: 56.6\n",
            "[42.61, 50.47, 55.12, 59.67, 60.32, 66.65]\n",
            "[40.58, 46.67, 49.42, 53.14, 52.41, 56.6]\n",
            "[1.990364268327215, 1.7800578729362244, 1.669692246017942, 1.5828225491153207, 1.500610571758003, 1.4285054389078906]\n",
            "Epoch 7, Loss: 1.3894241843253943, Train Accuracy: 64.11, Test Accuracy: 53.68\n",
            "[42.61, 50.47, 55.12, 59.67, 60.32, 66.65, 64.11]\n",
            "[40.58, 46.67, 49.42, 53.14, 52.41, 56.6, 53.68]\n",
            "[1.990364268327215, 1.7800578729362244, 1.669692246017942, 1.5828225491153207, 1.500610571758003, 1.4285054389078906, 1.3894241843253943]\n",
            "Epoch 8, Loss: 1.330414477047647, Train Accuracy: 68.32, Test Accuracy: 56.07\n",
            "[42.61, 50.47, 55.12, 59.67, 60.32, 66.65, 64.11, 68.32]\n",
            "[40.58, 46.67, 49.42, 53.14, 52.41, 56.6, 53.68, 56.07]\n",
            "[1.990364268327215, 1.7800578729362244, 1.669692246017942, 1.5828225491153207, 1.500610571758003, 1.4285054389078906, 1.3894241843253943, 1.330414477047647]\n",
            "Epoch 9, Loss: 1.2476737430900524, Train Accuracy: 79.1, Test Accuracy: 60.81\n",
            "[42.61, 50.47, 55.12, 59.67, 60.32, 66.65, 64.11, 68.32, 79.1]\n",
            "[40.58, 46.67, 49.42, 53.14, 52.41, 56.6, 53.68, 56.07, 60.81]\n",
            "[1.990364268327215, 1.7800578729362244, 1.669692246017942, 1.5828225491153207, 1.500610571758003, 1.4285054389078906, 1.3894241843253943, 1.330414477047647, 1.2476737430900524]\n",
            "Epoch 10, Loss: 1.2139406830641875, Train Accuracy: 75.61, Test Accuracy: 57.96\n",
            "[42.61, 50.47, 55.12, 59.67, 60.32, 66.65, 64.11, 68.32, 79.1, 75.61]\n",
            "[40.58, 46.67, 49.42, 53.14, 52.41, 56.6, 53.68, 56.07, 60.81, 57.96]\n",
            "[1.990364268327215, 1.7800578729362244, 1.669692246017942, 1.5828225491153207, 1.500610571758003, 1.4285054389078906, 1.3894241843253943, 1.330414477047647, 1.2476737430900524, 1.2139406830641875]\n",
            "Epoch 11, Loss: 1.1686288255035497, Train Accuracy: 82.57, Test Accuracy: 61.76\n",
            "[42.61, 50.47, 55.12, 59.67, 60.32, 66.65, 64.11, 68.32, 79.1, 75.61, 82.57]\n",
            "[40.58, 46.67, 49.42, 53.14, 52.41, 56.6, 53.68, 56.07, 60.81, 57.96, 61.76]\n",
            "[1.990364268327215, 1.7800578729362244, 1.669692246017942, 1.5828225491153207, 1.500610571758003, 1.4285054389078906, 1.3894241843253943, 1.330414477047647, 1.2476737430900524, 1.2139406830641875, 1.1686288255035497]\n",
            "Epoch 12, Loss: 1.099066000455504, Train Accuracy: 83.59, Test Accuracy: 60.71\n",
            "[42.61, 50.47, 55.12, 59.67, 60.32, 66.65, 64.11, 68.32, 79.1, 75.61, 82.57, 83.59]\n",
            "[40.58, 46.67, 49.42, 53.14, 52.41, 56.6, 53.68, 56.07, 60.81, 57.96, 61.76, 60.71]\n",
            "[1.990364268327215, 1.7800578729362244, 1.669692246017942, 1.5828225491153207, 1.500610571758003, 1.4285054389078906, 1.3894241843253943, 1.330414477047647, 1.2476737430900524, 1.2139406830641875, 1.1686288255035497, 1.099066000455504]\n",
            "Epoch 13, Loss: 1.0603057449790323, Train Accuracy: 88.5, Test Accuracy: 61.85\n",
            "[42.61, 50.47, 55.12, 59.67, 60.32, 66.65, 64.11, 68.32, 79.1, 75.61, 82.57, 83.59, 88.5]\n",
            "[40.58, 46.67, 49.42, 53.14, 52.41, 56.6, 53.68, 56.07, 60.81, 57.96, 61.76, 60.71, 61.85]\n",
            "[1.990364268327215, 1.7800578729362244, 1.669692246017942, 1.5828225491153207, 1.500610571758003, 1.4285054389078906, 1.3894241843253943, 1.330414477047647, 1.2476737430900524, 1.2139406830641875, 1.1686288255035497, 1.099066000455504, 1.0603057449790323]\n",
            "Epoch 14, Loss: 1.0089388117668734, Train Accuracy: 88.78, Test Accuracy: 60.15\n",
            "[42.61, 50.47, 55.12, 59.67, 60.32, 66.65, 64.11, 68.32, 79.1, 75.61, 82.57, 83.59, 88.5, 88.78]\n",
            "[40.58, 46.67, 49.42, 53.14, 52.41, 56.6, 53.68, 56.07, 60.81, 57.96, 61.76, 60.71, 61.85, 60.15]\n",
            "[1.990364268327215, 1.7800578729362244, 1.669692246017942, 1.5828225491153207, 1.500610571758003, 1.4285054389078906, 1.3894241843253943, 1.330414477047647, 1.2476737430900524, 1.2139406830641875, 1.1686288255035497, 1.099066000455504, 1.0603057449790323, 1.0089388117668734]\n",
            "Epoch 15, Loss: 0.9832738451896958, Train Accuracy: 93.53, Test Accuracy: 63.83\n",
            "[42.61, 50.47, 55.12, 59.67, 60.32, 66.65, 64.11, 68.32, 79.1, 75.61, 82.57, 83.59, 88.5, 88.78, 93.53]\n",
            "[40.58, 46.67, 49.42, 53.14, 52.41, 56.6, 53.68, 56.07, 60.81, 57.96, 61.76, 60.71, 61.85, 60.15, 63.83]\n",
            "[1.990364268327215, 1.7800578729362244, 1.669692246017942, 1.5828225491153207, 1.500610571758003, 1.4285054389078906, 1.3894241843253943, 1.330414477047647, 1.2476737430900524, 1.2139406830641875, 1.1686288255035497, 1.099066000455504, 1.0603057449790323, 1.0089388117668734, 0.9832738451896958]\n",
            "Epoch 16, Loss: 0.954433091886484, Train Accuracy: 92.46, Test Accuracy: 62.97\n",
            "[42.61, 50.47, 55.12, 59.67, 60.32, 66.65, 64.11, 68.32, 79.1, 75.61, 82.57, 83.59, 88.5, 88.78, 93.53, 92.46]\n",
            "[40.58, 46.67, 49.42, 53.14, 52.41, 56.6, 53.68, 56.07, 60.81, 57.96, 61.76, 60.71, 61.85, 60.15, 63.83, 62.97]\n",
            "[1.990364268327215, 1.7800578729362244, 1.669692246017942, 1.5828225491153207, 1.500610571758003, 1.4285054389078906, 1.3894241843253943, 1.330414477047647, 1.2476737430900524, 1.2139406830641875, 1.1686288255035497, 1.099066000455504, 1.0603057449790323, 1.0089388117668734, 0.9832738451896958, 0.954433091886484]\n",
            "Epoch 17, Loss: 0.9178182608003069, Train Accuracy: 95.56, Test Accuracy: 64.1\n",
            "[42.61, 50.47, 55.12, 59.67, 60.32, 66.65, 64.11, 68.32, 79.1, 75.61, 82.57, 83.59, 88.5, 88.78, 93.53, 92.46, 95.56]\n",
            "[40.58, 46.67, 49.42, 53.14, 52.41, 56.6, 53.68, 56.07, 60.81, 57.96, 61.76, 60.71, 61.85, 60.15, 63.83, 62.97, 64.1]\n",
            "[1.990364268327215, 1.7800578729362244, 1.669692246017942, 1.5828225491153207, 1.500610571758003, 1.4285054389078906, 1.3894241843253943, 1.330414477047647, 1.2476737430900524, 1.2139406830641875, 1.1686288255035497, 1.099066000455504, 1.0603057449790323, 1.0089388117668734, 0.9832738451896958, 0.954433091886484, 0.9178182608003069]\n",
            "Epoch 18, Loss: 0.8877191038648035, Train Accuracy: 95.36, Test Accuracy: 63.54\n",
            "[42.61, 50.47, 55.12, 59.67, 60.32, 66.65, 64.11, 68.32, 79.1, 75.61, 82.57, 83.59, 88.5, 88.78, 93.53, 92.46, 95.56, 95.36]\n",
            "[40.58, 46.67, 49.42, 53.14, 52.41, 56.6, 53.68, 56.07, 60.81, 57.96, 61.76, 60.71, 61.85, 60.15, 63.83, 62.97, 64.1, 63.54]\n",
            "[1.990364268327215, 1.7800578729362244, 1.669692246017942, 1.5828225491153207, 1.500610571758003, 1.4285054389078906, 1.3894241843253943, 1.330414477047647, 1.2476737430900524, 1.2139406830641875, 1.1686288255035497, 1.099066000455504, 1.0603057449790323, 1.0089388117668734, 0.9832738451896958, 0.954433091886484, 0.9178182608003069, 0.8877191038648035]\n",
            "Epoch 19, Loss: 0.8536079408256871, Train Accuracy: 97.33, Test Accuracy: 64.2\n",
            "[42.61, 50.47, 55.12, 59.67, 60.32, 66.65, 64.11, 68.32, 79.1, 75.61, 82.57, 83.59, 88.5, 88.78, 93.53, 92.46, 95.56, 95.36, 97.33]\n",
            "[40.58, 46.67, 49.42, 53.14, 52.41, 56.6, 53.68, 56.07, 60.81, 57.96, 61.76, 60.71, 61.85, 60.15, 63.83, 62.97, 64.1, 63.54, 64.2]\n",
            "[1.990364268327215, 1.7800578729362244, 1.669692246017942, 1.5828225491153207, 1.500610571758003, 1.4285054389078906, 1.3894241843253943, 1.330414477047647, 1.2476737430900524, 1.2139406830641875, 1.1686288255035497, 1.099066000455504, 1.0603057449790323, 1.0089388117668734, 0.9832738451896958, 0.954433091886484, 0.9178182608003069, 0.8877191038648035, 0.8536079408256871]\n",
            "Epoch 20, Loss: 0.8420108902226587, Train Accuracy: 97.47, Test Accuracy: 64.17\n",
            "[42.61, 50.47, 55.12, 59.67, 60.32, 66.65, 64.11, 68.32, 79.1, 75.61, 82.57, 83.59, 88.5, 88.78, 93.53, 92.46, 95.56, 95.36, 97.33, 97.47]\n",
            "[40.58, 46.67, 49.42, 53.14, 52.41, 56.6, 53.68, 56.07, 60.81, 57.96, 61.76, 60.71, 61.85, 60.15, 63.83, 62.97, 64.1, 63.54, 64.2, 64.17]\n",
            "[1.990364268327215, 1.7800578729362244, 1.669692246017942, 1.5828225491153207, 1.500610571758003, 1.4285054389078906, 1.3894241843253943, 1.330414477047647, 1.2476737430900524, 1.2139406830641875, 1.1686288255035497, 1.099066000455504, 1.0603057449790323, 1.0089388117668734, 0.9832738451896958, 0.954433091886484, 0.9178182608003069, 0.8877191038648035, 0.8536079408256871, 0.8420108902226587]\n",
            "Epoch 21, Loss: 0.8515173914326224, Train Accuracy: 98.03, Test Accuracy: 64.12\n",
            "early break\n",
            "Finished Training\n"
          ]
        }
      ],
      "source": [
        "train_ac = []\n",
        "teat_ac = []\n",
        "loss_ = []\n",
        "\n",
        "for epoch in range(100):\n",
        "    net.train()\n",
        "    running_loss = 0.0\n",
        "    for i, data in enumerate(trainloader, 0):\n",
        "\n",
        "        inputs, labels = data[0].to(device), data[1].to(device)\n",
        "        inputs, targets = inputs.numpy(), labels.numpy()\n",
        "\n",
        "        mixed_inputs, mixed_targets, _ = mixup_data(inputs, targets)\n",
        "        mixed_inputs = torch.from_numpy(mixed_inputs).float().to(device)\n",
        "        mixed_targets = torch.from_numpy(mixed_targets).float().to(device)\n",
        "\n",
        "        optimizer.zero_grad()\n",
        "        outputs = net(mixed_inputs)\n",
        "        loss = cross_entropy(outputs, mixed_targets)\n",
        "        loss.backward()\n",
        "        optimizer.step()\n",
        "        running_loss += loss.item()\n",
        "\n",
        "    train_accuracy = calculate_accuracy(trainloader, net)\n",
        "    test_accuracy = calculate_accuracy(testloader, net)\n",
        "    train_loss = running_loss / len(trainloader)\n",
        "    train_ac.append(train_accuracy)\n",
        "    teat_ac.append(test_accuracy)\n",
        "\n",
        "    if epoch > 10:\n",
        "        if train_loss > loss_[-1]:\n",
        "            loss_.append(train_loss)\n",
        "            print(f'Epoch {epoch + 1}, Loss: {running_loss / len(trainloader)}, '\n",
        "            f'Train Accuracy: {train_accuracy}, Test Accuracy: {test_accuracy}')\n",
        "            print('early break')\n",
        "            break\n",
        "    loss_.append(train_loss)\n",
        "\n",
        "    print(f'Epoch {epoch + 1}, Loss: {running_loss / len(trainloader)}, '\n",
        "          f'Train Accuracy: {train_accuracy}, Test Accuracy: {test_accuracy}')\n",
        "    print(train_ac)\n",
        "    print(teat_ac)\n",
        "    print(loss_)\n",
        "\n",
        "print('Finished Training')"
      ]
    },
    {
      "cell_type": "code",
      "source": [
        "import matplotlib.pyplot as plt\n",
        "\n",
        "temp = [i for i in range(len(train_ac))]\n",
        "\n",
        "plt.plot(temp, train_ac, label=f'train accuracy(mixup, alpha=0.4)')\n",
        "plt.plot(temp, teat_ac, label=f'test accuracy(mixup, alpha=0.4)')\n",
        "plt.xlabel(\"epoch\")\n",
        "plt.ylabel(\"accuracy\")\n",
        "plt.legend()\n",
        "plt.show()"
      ],
      "metadata": {
        "colab": {
          "base_uri": "https://localhost:8080/",
          "height": 450
        },
        "id": "H52LyZHB56FY",
        "outputId": "a060dfac-187c-487a-9c85-87333a301b69"
      },
      "execution_count": 13,
      "outputs": [
        {
          "output_type": "display_data",
          "data": {
            "text/plain": [
              "<Figure size 640x480 with 1 Axes>"
            ],
            "image/png": "[encoded data removed]"
          },
          "metadata": {}
        }
      ]
    },
    {
      "cell_type": "code",
      "source": [
        "temp = [i for i in range(len(train_ac))]\n",
        "plt.plot(temp, loss_, label=f'loss(mixup, alpha=0.4)')\n",
        "plt.xlabel(\"epoch\")\n",
        "plt.ylabel(\"loss\")\n",
        "plt.legend()\n",
        "plt.show()"
      ],
      "metadata": {
        "colab": {
          "base_uri": "https://localhost:8080/",
          "height": 449
        },
        "id": "35BZu9pw7HsH",
        "outputId": "b1423ab6-fae3-4f02-8901-d0f2ec196b90"
      },
      "execution_count": 14,
      "outputs": [
        {
          "output_type": "display_data",
          "data": {
            "text/plain": [
              "<Figure size 640x480 with 1 Axes>"
            ],
            "image/png": "[encoded data removed]"
          },
          "metadata": {}
        }
      ]
    }
  ],
  "metadata": {
    "kernelspec": {
      "display_name": "base",
      "language": "python",
      "name": "python3"
    },
    "language_info": {
      "codemirror_mode": {
        "name": "ipython",
        "version": 3
      },
      "file_extension": ".py",
      "mimetype": "text/x-python",
      "name": "python",
      "nbconvert_exporter": "python",
      "pygments_lexer": "ipython3",
      "version": "3.8.8"
    },
    "colab": {
      "provenance": []
    }
  },
  "nbformat": 4,
  "nbformat_minor": 0
}